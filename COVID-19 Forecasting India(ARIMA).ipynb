{
 "cells": [
  {
   "cell_type": "code",
   "execution_count": null,
   "metadata": {},
   "outputs": [],
   "source": [
    "#Please read through the comments for easy code navigation"
   ]
  },
  {
   "cell_type": "markdown",
   "metadata": {},
   "source": [
    "# IMPORTING DATA, MODULES AND DOING PRE PROCESSING"
   ]
  },
  {
   "cell_type": "code",
   "execution_count": null,
   "metadata": {},
   "outputs": [],
   "source": [
    "#PLease change the dependencies on the directory where given Corona India dataset is placed"
   ]
  },
  {
   "cell_type": "code",
   "execution_count": null,
   "metadata": {},
   "outputs": [],
   "source": []
  },
  {
   "cell_type": "code",
   "execution_count": null,
   "metadata": {},
   "outputs": [],
   "source": [
    "from pandas import read_csv\n",
    "from pandas import datetime\n",
    "from matplotlib import pyplot\n",
    "from statsmodels.tsa.arima_model import ARIMA\n",
    "from sklearn.metrics import mean_squared_error\n",
    "import pandas as pd\n",
    "import matplotlib.pyplot as plt\n",
    "import math\n",
    "import numpy as np"
   ]
  },
  {
   "cell_type": "code",
   "execution_count": null,
   "metadata": {},
   "outputs": [],
   "source": [
    "data_all = pd.read_excel(\"corona india.xlsx\")"
   ]
  },
  {
   "cell_type": "code",
   "execution_count": null,
   "metadata": {},
   "outputs": [],
   "source": [
    "data_all.head()"
   ]
  },
  {
   "cell_type": "code",
   "execution_count": null,
   "metadata": {},
   "outputs": [],
   "source": [
    "plt.plot(data_all[\"new_deaths\"])"
   ]
  },
  {
   "cell_type": "code",
   "execution_count": null,
   "metadata": {},
   "outputs": [],
   "source": [
    "#Clearly from the above graph, in the starting days, no such new covid cases were identified due to very less testing and other\n",
    "#factors. We see considerable growth from the 80th day, that is from 2nd April, so we train the model from thereon.\n",
    "#Last 28 days have been taken away as validation"
   ]
  },
  {
   "cell_type": "code",
   "execution_count": null,
   "metadata": {},
   "outputs": [],
   "source": [
    "#Training data taken from 2 april, 2020 after corona began to spread\n",
    "#Last 28 days taken for validation as stated in question\n",
    "val_data = data_all[170-28:]\n",
    "train_data = data_all[92:170-28]"
   ]
  },
  {
   "cell_type": "code",
   "execution_count": null,
   "metadata": {},
   "outputs": [],
   "source": [
    "#Since our aim is to predict new cases we take the new_cases column for both train and validation data\n",
    "new_cases_train = train_data[\"new_cases\"]\n",
    "new_cases_val = val_data[\"new_cases\"]\n",
    "#We take natural logarithm of our data as covid cases grow exponentially\n",
    "new_cases_train = np.log(np.array(new_cases_train))\n",
    "new_cases_val = np.log(np.array(new_cases_val))"
   ]
  },
  {
   "cell_type": "code",
   "execution_count": null,
   "metadata": {},
   "outputs": [],
   "source": [
    "plt.plot(new_cases_train)\n",
    "plt.title(\"Corona new cases in traning data with starting data from 2 April, 2020\")"
   ]
  },
  {
   "cell_type": "markdown",
   "metadata": {},
   "source": [
    "# Linear Regression"
   ]
  },
  {
   "cell_type": "code",
   "execution_count": null,
   "metadata": {
    "scrolled": true
   },
   "outputs": [],
   "source": [
    "from sklearn.linear_model import LinearRegression\n",
    "model = LinearRegression()\n",
    "x_train = np.array([i for i in range(0,new_cases_train.shape[0])])\n",
    "model.fit(x_train.reshape([-1,1]), new_cases_train.reshape([-1,1]))"
   ]
  },
  {
   "cell_type": "code",
   "execution_count": null,
   "metadata": {},
   "outputs": [],
   "source": [
    "x_val = np.array([i for i in range(new_cases_train.shape[0], new_cases_train.shape[0]+new_cases_val.shape[0])])\n",
    "model.score(x_val.reshape([-1,1]), new_cases_val.reshape([-1,1]))"
   ]
  },
  {
   "cell_type": "code",
   "execution_count": null,
   "metadata": {},
   "outputs": [],
   "source": [
    "#For our training data\n",
    "plt.plot(new_cases_train)\n",
    "plt.plot(model.predict(x_train.reshape([-1,1])))\n",
    "plt.title(\"Training data using Linear Regression(Orange line is our predicted line)\")"
   ]
  },
  {
   "cell_type": "code",
   "execution_count": 14,
   "metadata": {},
   "outputs": [
    {
     "data": {
      "text/plain": [
       "Text(0.5, 1.0, 'Validation data using Linear Regression(Orange line is our predicted line)')"
      ]
     },
     "execution_count": 14,
     "metadata": {},
     "output_type": "execute_result"
    },
    {
     "data": {
      "image/png": "[encoded data removed]",
      "text/plain": [
       "<Figure size 432x288 with 1 Axes>"
      ]
     },
     "metadata": {
      "needs_background": "light"
     },
     "output_type": "display_data"
    }
   ],
   "source": [
    "#for 28 day validation period\n",
    "from sklearn.metrics import mean_squared_error\n",
    "plt.plot(new_cases_val)\n",
    "plt.plot(model.predict(x_val.reshape([-1,1])))\n",
    "plt.title(\"Validation data using Linear Regression(Orange line is our predicted line)\")"
   ]
  },
  {
   "cell_type": "code",
   "execution_count": 15,
   "metadata": {},
   "outputs": [
    {
     "name": "stdout",
     "output_type": "stream",
     "text": [
      "The MSE on Validation data for fitting Linear Regression on our dataset is  42831702.68997995\n"
     ]
    }
   ],
   "source": [
    "mse = mean_squared_error(np.exp(model.predict(x_val.reshape([-1,1]))), np.exp(new_cases_val))\n",
    "print(\"The MSE on Validation data for fitting Linear Regression on our dataset is \", mse)"
   ]
  },
  {
   "cell_type": "code",
   "execution_count": 16,
   "metadata": {},
   "outputs": [],
   "source": [
    "#We see that linear regression performs very poorly for forecasting new COVID-19 cases for the validation dataset"
   ]
  },
  {
   "cell_type": "markdown",
   "metadata": {},
   "source": [
    "# ARIMA MODEL"
   ]
  },
  {
   "cell_type": "code",
   "execution_count": 17,
   "metadata": {},
   "outputs": [
    {
     "name": "stderr",
     "output_type": "stream",
     "text": [
      "C:\\Users\\aman\\anaconda3\\lib\\site-packages\\ipykernel_launcher.py:3: FutureWarning: The pandas.datetime class is deprecated and will be removed from pandas in a future version. Import from datetime module instead.\n",
      "  This is separate from the ipykernel package so we can avoid doing imports until\n"
     ]
    },
    {
     "name": "stdout",
     "output_type": "stream",
     "text": [
      "ARIMA(0, 0, 0) MSE=61002683.681\n",
      "ARIMA(0, 0, 1) MSE=60527568.541\n",
      "ARIMA(0, 0, 2) MSE=60301814.264\n",
      "ARIMA(0, 1, 0) MSE=16633018.944\n",
      "ARIMA(0, 1, 1) MSE=43111124.292\n",
      "ARIMA(0, 1, 2) MSE=36282238.729\n",
      "ARIMA(0, 2, 0) MSE=29540111931.440\n",
      "ARIMA(0, 2, 1) MSE=52823753.157\n",
      "ARIMA(0, 2, 2) MSE=4175428.323\n",
      "ARIMA(1, 0, 0) MSE=42599231.256\n",
      "ARIMA(1, 0, 1) MSE=23949990.635\n",
      "ARIMA(1, 0, 2) MSE=24049173.609\n",
      "ARIMA(1, 1, 0) MSE=36524089.736\n",
      "ARIMA(1, 1, 1) MSE=37263945.224\n",
      "ARIMA(1, 1, 2) MSE=43115119.443\n",
      "ARIMA(1, 2, 0) MSE=326112455.122\n",
      "ARIMA(1, 2, 1) MSE=6027472.854\n",
      "ARIMA(1, 2, 2) MSE=4275673.452\n",
      "ARIMA(2, 0, 0) MSE=22867209.449\n",
      "ARIMA(2, 0, 1) MSE=22545651.620\n",
      "ARIMA(2, 0, 2) MSE=60554641.581\n",
      "ARIMA(2, 1, 0) MSE=36197912.198\n",
      "ARIMA(2, 1, 1) MSE=44521546.418\n",
      "ARIMA(2, 2, 0) MSE=26650610.258\n",
      "ARIMA(2, 2, 1) MSE=4832164.272\n",
      "ARIMA(2, 2, 2) MSE=5896058.030\n",
      "ARIMA(4, 0, 0) MSE=23027301.202\n",
      "ARIMA(4, 0, 1) MSE=1926098116.386\n",
      "ARIMA(4, 0, 2) MSE=198577211.359\n",
      "ARIMA(4, 1, 0) MSE=36384786.396\n",
      "ARIMA(4, 1, 1) MSE=36749407.008\n",
      "ARIMA(4, 1, 2) MSE=44630803.132\n",
      "ARIMA(4, 2, 0) MSE=766743.823\n",
      "ARIMA(4, 2, 1) MSE=2200342.160\n",
      "ARIMA(4, 2, 2) MSE=2101247.774\n",
      "ARIMA(6, 0, 0) MSE=26253637.094\n",
      "ARIMA(6, 0, 1) MSE=26114799.022\n",
      "ARIMA(6, 0, 2) MSE=23914863.138\n",
      "ARIMA(6, 1, 0) MSE=38793171.867\n",
      "ARIMA(6, 1, 1) MSE=46226065.552\n",
      "ARIMA(6, 1, 2) MSE=46275076.351\n",
      "ARIMA(6, 2, 0) MSE=54516371.795\n",
      "ARIMA(6, 2, 1) MSE=678108.738\n",
      "ARIMA(6, 2, 2) MSE=471445.568\n",
      "ARIMA(8, 0, 0) MSE=20055962.117\n",
      "ARIMA(8, 0, 1) MSE=21012504.676\n",
      "ARIMA(8, 0, 2) MSE=23322951.884\n",
      "ARIMA(8, 1, 0) MSE=37479372.238\n",
      "ARIMA(8, 1, 1) MSE=45473905.683\n",
      "ARIMA(8, 1, 2) MSE=45970516.486\n",
      "ARIMA(8, 2, 0) MSE=27939113.085\n",
      "ARIMA(8, 2, 1) MSE=451515.210\n",
      "ARIMA(8, 2, 2) MSE=22914400.801\n",
      "ARIMA(10, 0, 0) MSE=20669513.062\n",
      "ARIMA(10, 1, 0) MSE=35677525.765\n",
      "ARIMA(10, 1, 1) MSE=46055886.646\n",
      "ARIMA(10, 1, 2) MSE=48838052.707\n",
      "ARIMA(10, 2, 0) MSE=720792.535\n",
      "ARIMA(10, 2, 1) MSE=513167.526\n",
      "ARIMA(10, 2, 2) MSE=493038.219\n",
      "'Best ARIMA(8, 2, 1) MSE=451515.210'\n"
     ]
    }
   ],
   "source": [
    "#GRID SEARCH for best (p,d,q)\n",
    "\n",
    "\n",
    "import warnings\n",
    "from pandas import read_csv\n",
    "from pandas import datetime\n",
    "from statsmodels.tsa.arima_model import ARIMA\n",
    "from sklearn.metrics import mean_squared_error\n",
    "\n",
    "# evaluate an ARIMA model for a given order (p,d,q)\n",
    "def evaluate_arima_model(arima_order):\n",
    "    # prepare training dataset\n",
    "    train_size = new_cases_train.shape[0]\n",
    "    steps = new_cases_val.shape[0]\n",
    "    history = [x for x in new_cases_train]\n",
    "    \n",
    "    # make predictions\n",
    "    model = ARIMA(history, order=arima_order)\n",
    "    model_fit = model.fit(disp=0)\n",
    "    predictions = model_fit.forecast(steps=steps)[0]\n",
    "    error = mean_squared_error(np.exp(new_cases_val), np.exp(predictions))\n",
    "    return error\n",
    "\n",
    "# evaluate combinations of p, d and q values for an ARIMA model\n",
    "def evaluate_models(p_values, d_values, q_values):\n",
    "    best_score, best_cfg = float(\"inf\"), None\n",
    "    for p in p_values:\n",
    "        for d in d_values:\n",
    "            for q in q_values:\n",
    "                order = (p,d,q)\n",
    "                try:\n",
    "                    mse = evaluate_arima_model(order)\n",
    "                    if mse < best_score:\n",
    "                        best_score, best_cfg = mse, order\n",
    "                    print('ARIMA%s MSE=%.3f' % (order,mse))\n",
    "                except:\n",
    "                    continue           \n",
    "    print(\"'Best ARIMA%s MSE=%.3f'\" % (best_cfg, best_score))\n",
    "\n",
    "p_values = [0, 1, 2, 4, 6, 8, 10]\n",
    "d_values = range(0,3)\n",
    "q_values = range(0,3)\n",
    "warnings.filterwarnings(\"ignore\")\n",
    "evaluate_models(p_values, d_values, q_values)"
   ]
  },
  {
   "cell_type": "code",
   "execution_count": 18,
   "metadata": {},
   "outputs": [
    {
     "data": {
      "text/plain": [
       "Text(0.5, 1.0, 'Validation data using ARIMA(red line is our predicted line)')"
      ]
     },
     "execution_count": 18,
     "metadata": {},
     "output_type": "execute_result"
    },
    {
     "data": {
      "image/png": "[encoded data removed]",
      "text/plain": [
       "<Figure size 432x288 with 1 Axes>"
      ]
     },
     "metadata": {
      "needs_background": "light"
     },
     "output_type": "display_data"
    }
   ],
   "source": [
    "#Forecasting with best (p,d,q) tuple for our validation region\n",
    "model = ARIMA(new_cases_train, order=(8,2,1))\n",
    "model_fit = model.fit(disp=0)\n",
    "predictions = model_fit.forecast(steps=new_cases_val.shape[0])[0]\n",
    "pyplot.plot(new_cases_val)\n",
    "pyplot.plot(predictions, color='red')\n",
    "plt.title(\"Validation data using ARIMA(red line is our predicted line)\")"
   ]
  },
  {
   "cell_type": "code",
   "execution_count": 19,
   "metadata": {
    "scrolled": true
   },
   "outputs": [
    {
     "name": "stdout",
     "output_type": "stream",
     "text": [
      "ratio of MSE of Linear Regression to ARIMA 94.86214803257668\n"
     ]
    }
   ],
   "source": [
    "print(\"ratio of MSE of Linear Regression to ARIMA\", 42831702.68997995/451515.210)"
   ]
  }
 ],
 "metadata": {
  "kernelspec": {
   "display_name": "Python 3",
   "language": "python",
   "name": "python3"
  },
  "language_info": {
   "codemirror_mode": {
    "name": "ipython",
    "version": 3
   },
   "file_extension": ".py",
   "mimetype": "text/x-python",
   "name": "python",
   "nbconvert_exporter": "python",
   "pygments_lexer": "ipython3",
   "version": "3.7.4"
  }
 },
 "nbformat": 4,
 "nbformat_minor": 4
}
