{
 "cells": [
  {
   "cell_type": "markdown",
   "metadata": {},
   "source": [
    "# Statastical relations of Data"
   ]
  },
  {
   "cell_type": "code",
   "execution_count": 204,
   "metadata": {},
   "outputs": [],
   "source": [
    "import pandas as pd\n",
    "data_all = pd.read_excel(\"corona india.xlsx\")\n",
    "data_all.dropna(inplace=True)\n",
    "\n",
    "#extract some potential features \n",
    "index=['total_cases', 'new_cases',\n",
    "       'total_deaths', 'new_deaths', 'total_cases_per_million',\n",
    "       'new_cases_per_million', 'total_deaths_per_million',\n",
    "       'new_deaths_per_million', 'total_tests', 'new_tests',\n",
    "       'total_tests_per_thousand', 'new_tests_per_thousand',\n",
    "       'new_tests_smoothed', 'new_tests_smoothed_per_thousand',\n",
    "       'stringency_index']"
   ]
  },
  {
   "cell_type": "code",
   "execution_count": 205,
   "metadata": {},
   "outputs": [],
   "source": [
    "#matrix which stores corelation between features\n",
    "matrix_pearson=[[0]*len(index) for _ in range(len(index))]"
   ]
  },
  {
   "cell_type": "code",
   "execution_count": 206,
   "metadata": {},
   "outputs": [],
   "source": [
    "# calculate the Pearson's correlation between two variables\n",
    "from numpy.random import randn\n",
    "from numpy.random import seed\n",
    "from scipy.stats import pearsonr\n",
    "# seed random number generator\n",
    "# prepare data\n",
    "for i in range(len(index)):\n",
    "    for j in range(i,len(index)):\n",
    "        if i==j:\n",
    "            matrix_pearson[i][j]=-10\n",
    "        else:\n",
    "            data1 = data_all[index[i]]\n",
    "            data2 = data_all[index[j]]\n",
    "            # calculate Pearson's correlation\n",
    "            corr, _ = pearsonr(data1, data2)\n",
    "            matrix_pearson[i][j]=corr"
   ]
  },
  {
   "cell_type": "code",
   "execution_count": 207,
   "metadata": {},
   "outputs": [
    {
     "data": {
      "text/plain": [
       "<matplotlib.image.AxesImage at 0x135aca644c8>"
      ]
     },
     "execution_count": 207,
     "metadata": {},
     "output_type": "execute_result"
    },
    {
     "data": {
      "image/png": "[encoded data removed]",
      "text/plain": [
       "<Figure size 432x288 with 1 Axes>"
      ]
     },
     "metadata": {
      "needs_background": "light"
     },
     "output_type": "display_data"
    }
   ],
   "source": [
    "import matplotlib.pyplot as plt\n",
    "%matplotlib inline\n",
    "plt.imshow(matrix_pearson)"
   ]
  },
  {
   "cell_type": "code",
   "execution_count": 208,
   "metadata": {},
   "outputs": [
    {
     "name": "stdout",
     "output_type": "stream",
     "text": [
      "{'total_cases': 'stringency_index', 'new_cases': 'stringency_index', 'total_deaths': 'stringency_index', 'new_deaths': 'stringency_index', 'total_cases_per_million': 'stringency_index', 'new_cases_per_million': 'stringency_index', 'total_deaths_per_million': 'stringency_index', 'new_deaths_per_million': 'stringency_index', 'total_tests': 'stringency_index', 'new_tests': 'stringency_index', 'total_tests_per_thousand': 'stringency_index', 'new_tests_per_thousand': 'stringency_index', 'new_tests_smoothed': 'stringency_index', 'new_tests_smoothed_per_thousand': 'stringency_index', 'stringency_index': 'stringency_index'}\n"
     ]
    }
   ],
   "source": [
    "#find one highly corelated featur map\n",
    "import numpy as np\n",
    "matrix=np.array(matrix_pearson)\n",
    "\n",
    "np.argmax(matrix,axis=0)\n",
    "\n",
    "relation_map={}\n",
    "for i in range(len(index)):\n",
    "    relation_map[index[i]]=index[j]\n",
    "\n",
    "print(relation_map)"
   ]
  }
 ],
 "metadata": {
  "kernelspec": {
   "display_name": "Python 3",
   "language": "python",
   "name": "python3"
  },
  "language_info": {
   "codemirror_mode": {
    "name": "ipython",
    "version": 3
   },
   "file_extension": ".py",
   "mimetype": "text/x-python",
   "name": "python",
   "nbconvert_exporter": "python",
   "pygments_lexer": "ipython3",
   "version": "3.7.4"
  }
 },
 "nbformat": 4,
 "nbformat_minor": 2
}
